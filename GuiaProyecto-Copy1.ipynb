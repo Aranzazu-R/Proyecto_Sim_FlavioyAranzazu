{
 "cells": [
  {
   "cell_type": "markdown",
   "metadata": {},
   "source": [
    "<img style=\"float: left; margin: 30px 15px 15px 15px;\" src=\"https://pngimage.net/wp-content/uploads/2018/06/logo-iteso-png-5.png\" width=\"300\" height=\"500\" /> \n",
    "    \n",
    "    \n",
    "### <font color='navy'> Simulación de procesos financieros. \n",
    "\n",
    "**Nombres:** Flavio Palacios y\n",
    "    Aranzazú Rendón.\n",
    "\n",
    "**Fecha:** 09 de marzo del 2021.\n",
    "\n",
    "**Expediente** : if729825, if722272.\n",
    "**Profesor:** Oscar David Jaramillo Zuluaga.\n",
    "    \n",
    "**Link Github**: https://github.com/Aranzazu-R/Proyecto_Sim_FlavioyAranzazu.git\n",
    "\n",
    "# Proyecto TEMA-2"
   ]
  },
  {
   "cell_type": "markdown",
   "metadata": {},
   "source": [
    "<img style=\"float: right; margin: 0px 0px 15px 15px;\" src=\"https://upload.wikimedia.org/wikipedia/commons/b/b6/Proyecto_en_construccion.jpg\" width=\"300px\" height=\"100px\" />\n",
    "\n",
    "\n",
    "# Proyecto Módulo 2- Guía.\n",
    "> Se especifican los componentes básicos que deberá tener cada proyecto. El proyecto debe ser un problema que utilice datos reales, ya sea de una empresa física real o de alguna página de internet que proporcione bases de datos confiables. Con la información obtenida, se pretende utilizar todas las herramientas vistas durante el curso para la correcta modelación y simulación del cierto problema con ciertas variables de interés."
   ]
  },
  {
   "cell_type": "markdown",
   "metadata": {},
   "source": [
    "### 1.1 Título\n",
    "## Predicción de incendios forestales en el Parque Nacional Montesinho de Portugal"
   ]
  },
  {
   "cell_type": "markdown",
   "metadata": {},
   "source": [
    "### 1.2 Objetivos.\n",
    "> #### 1.1 Objetivo general.\n",
    ">  -  Predecir las posibles zonas de futuros incendios forestales a partir de las condiciones climáticas y del Sistema de índices meteorológicos de incendios forestales observados en sucesos pasados.\n",
    "\n",
    "> #### 1.2 Objetivos específicos.  \n",
    ">  - Descargar los datos disponibles y limpiar nuestra base de datos.\n",
    ">  - Analizar la composición de cada una de las variables para determinar que distribuciones se aproximan de mejor manera\n",
    ">  - Simular nuestras variables de interés en función a la distribución observada para cada una en un período futuro.\n"
   ]
  },
  {
   "cell_type": "markdown",
   "metadata": {},
   "source": [
    "### 1.3 Definición del problema.\n",
    "\n",
    "\n",
    "El cambio climatico debido al ser humano ha impactado gravemente a los diversos ecosistemas así como las distintas variables que componen al clima a nivel mundial, esto a su vez ha provocado que se haya una mayor cantidad de incendios forestales tal como lo indica Silva en su trabajo en donde señala que existe una disminución de la precicipitación, prolongación de los periodos secos y una mayor frecuencia de olas de calor. Los incendios forestales crean un gran daño no solamente ambiental y a la flora y fauna de la zona sino también pueden provocar afectaciones economicas e inclusive la perdida de vidas humanas, de ahí la importancia que puede representar el identificar los riesgos y simularlos para una mejor respuesta.\n",
    "\n",
    "En este proyecto buscaremos predecir las zonas de riesgo en la que probablemente ocurran futuros incendios forestales en el Parque Natural de Montesinho situado en el distrito de Braganza, en la región histórica de Trás-os-Montes en Portugal. Este lugar tiene una dimensión de cerca de 75 mil hectáreas y actualmente cuenta con 9000 habitantes viviendo en 92 aldeas. El data set que se utiliza de base para la simulación contiene datos recolectados entre 2001 y 2003 siendo un total de 517 entradas.\n",
    "\n",
    "Nuestra variable principal a analizar serán las coordenadas espaciales (X(1-9) y Y(2-9)) en las que han ocurrido incendios en el pasado.  \n",
    "Las variables que tomaremos como nodos para realizar las simulaciones y que nos ayudarán a predecir futuros incendios son:  \n",
    ">  - Código de humedad de combustible fino, este es un indicador de la relativa facilidad de encendido y la inflamabilidad del combustible fino. (Temperatura, humedad realitva,  viento y lluvia)\n",
    ">  - Código de humedad DUFF, mide el contenido de humedad promedio de capas orgánicas poco compactadas de profundidad moderada (Temperatura, humedad relativa y lluvia). \n",
    ">  - Código de sequía, este indīce mide el contenido de humedad promedio de capas orgánicas compactas y profundas. (Tempreatura y lluvia)\n",
    ">  - Mes, variable que mide el inicio o identificación de un incendio\n",
    "\n",
    "\n",
    "Nota: la mayoría de nuestra variables constan de cantidades en números enteros o con un decimal, lo que podria afecta a nuestra modelación."
   ]
  },
  {
   "cell_type": "markdown",
   "metadata": {},
   "source": [
    "### 1.4 Nodos y variables que se decidieron simular y porqué\n",
    "\n",
    "- En primer lugar se decide simular las coordenadas espaciales ya que son uno de los principales datos para identificar espacialmente las zonas de riesgo para indicar donde inicia un incendio y posteriormente ver su propagación, para esta localización se toman en cuanta las variables $x$ y $y$ del dataset. Uno de los inconvenientes que podemos identificar es que los datos son muy generales y se podría perder precisión ya que solamente se cuentan con valores enteros. Además otro inconveniente que se puede observar es que a pesar de que hay una clara tendencia observada en los histogramas de cada una de las funciones el generar los números aleatorios podría dar también a fallos a lugares que puedan no encontrarse dentro del parque ya que el terreno no es una forma regular. Al observar el mapa se puede corroborar esto facilmente al igual que al graficar la pareja de puntos.\n",
    "\n"
   ]
  },
  {
   "cell_type": "markdown",
   "metadata": {},
   "source": [
    "### 1.6 Obtención de bases de datos\n",
    "\n",
    "Nuestra variable principal a analizar serán las coordenadas espaciales (X(1-9) y Y(2-9)) en las que han ocurrido incendios en el pasado. Estas coordenadas se obtienen a partir de un ajuste de coordenadas de acuerdo al parque.\n",
    "\n",
    "![](The-map-of-the-Montesinho-natural-park.png)\n",
    "  \n",
    "Además de estas, contamos con los siguientes datos:   \n",
    "  \n",
    "month - Mes del año en el que se produjo el incendio ('jan' a 'dec')  \n",
    "day - Día de la semana ('mon' a 'sun')  \n",
    "FFMC - Código de humedad de combustible fino (18.7 a 96.20)  \n",
    "DMC - Código de humedad DUFF (1.1 a 291.3)  \n",
    "DC - Código de sequía (7.9 a 860.6)  \n",
    "ISI - Índice de propagación inicial (0.0 a 56.10)  \n",
    "temp - Temperatura en grados Celsius (2.2 a 33.30)  \n",
    "RH - Porcentaje de humedad relativa (15.0 a 100)  \n",
    "wind - Velocidad del viento en kilometros por hora (0.40 a 9.40).   \n",
    "rain - Lluvia exterior en mm / m2: (0.0 a 6.4)  \n",
    "area - Hectareas quemadas del bosque (0.00 a 1090.84)  "
   ]
  },
  {
   "cell_type": "markdown",
   "metadata": {},
   "source": [
    "### 1.7 Referencias.\n",
    "> - Amiro B., Logan, K., Wotton, M., Flannigan, M., Todd, M., Stocks, B. & Martell, D. (2004). Fire weather index system components of large fires in the Canadian boreal forest. International Journal of Wildland Fire.\n",
    ">- Cortez, P. & Morais, A.(2007). A Data Mining Approach to Predict Forest Fires using Meteorological Data. "
   ]
  },
  {
   "cell_type": "markdown",
   "metadata": {},
   "source": [
    "<script>\n",
    "  $(document).ready(function(){\n",
    "    $('div.prompt').hide();\n",
    "    $('div.back-to-top').hide();\n",
    "    $('nav#menubar').hide();\n",
    "    $('.breadcrumb').hide();\n",
    "    $('.hidden-print').hide();\n",
    "  });\n",
    "</script>\n",
    "\n",
    "<footer id=\"attribution\" style=\"float:right; color:#808080; background:#fff;\">\n",
    "Created with Jupyter by Esteban Jiménez Rodríguez.\n",
    "</footer>"
   ]
  }
 ],
 "metadata": {
  "kernelspec": {
   "display_name": "Python 3",
   "language": "python",
   "name": "python3"
  },
  "language_info": {
   "codemirror_mode": {
    "name": "ipython",
    "version": 3
   },
   "file_extension": ".py",
   "mimetype": "text/x-python",
   "name": "python",
   "nbconvert_exporter": "python",
   "pygments_lexer": "ipython3",
   "version": "3.8.5"
  }
 },
 "nbformat": 4,
 "nbformat_minor": 2
}
