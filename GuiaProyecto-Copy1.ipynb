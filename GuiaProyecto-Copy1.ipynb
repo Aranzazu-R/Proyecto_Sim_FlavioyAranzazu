{
 "cells": [
  {
   "cell_type": "markdown",
   "metadata": {},
   "source": [
    "<img style=\"float: left; margin: 30px 15px 15px 15px;\" src=\"https://pngimage.net/wp-content/uploads/2018/06/logo-iteso-png-5.png\" width=\"300\" height=\"500\" /> \n",
    "    \n",
    "    \n",
    "### <font color='navy'> Simulación de procesos financieros. \n",
    "\n",
    "**Nombres:** Flavio Palacios y\n",
    "    Aranzazú Rendón.\n",
    "\n",
    "**Fecha:** 09 de marzo del 2021.\n",
    "\n",
    "**Expediente** : if729825, if722272.\n",
    "**Profesor:** Oscar David Jaramillo Zuluaga.\n",
    "    \n",
    "**Link Github**: https://github.com/Aranzazu-R/Proyecto_Sim_FlavioyAranzazu.git\n",
    "\n",
    "# Proyecto TEMA-2"
   ]
  },
  {
   "cell_type": "markdown",
   "metadata": {},
   "source": [
    "<img style=\"float: right; margin: 0px 0px 15px 15px;\" src=\"https://upload.wikimedia.org/wikipedia/commons/b/b6/Proyecto_en_construccion.jpg\" width=\"300px\" height=\"100px\" />\n",
    "\n",
    "\n",
    "# Proyecto Módulo 2- Guía.\n",
    "> Se especifican los componentes básicos que deberá tener cada proyecto. El proyecto debe ser un problema que utilice datos reales, ya sea de una empresa física real o de alguna página de internet que proporcione bases de datos confiables. Con la información obtenida, se pretende utilizar todas las herramientas vistas durante el curso para la correcta modelación y simulación del cierto problema con ciertas variables de interés."
   ]
  },
  {
   "cell_type": "markdown",
   "metadata": {},
   "source": [
    "### 1.1 Título\n",
    "# Predicción de incendios forestales en Portugal"
   ]
  },
  {
   "cell_type": "markdown",
   "metadata": {},
   "source": [
    "### 1.2 Objetivos.\n",
    "> #### 1.1 Objetivo general.\n",
    ">  -  Predecir las posibles zonas de futuros incendios forestales a partir de las condiciones climáticas y del Sistema de índices meteorológicos de incendios forestales observados en sucesos pasados.\n",
    "\n",
    "> #### 1.2 Objetivos específicos.  \n",
    ">  - Descargar los datos disponibles y limpiar nuestra base de datos.\n",
    ">  - Analizar las distribuciones de cada una de las variables para observar de que tipo son.\n",
    ">  - Simular nuestras variables de interés en función a la distribución observada para cada una en un período futuro.\n"
   ]
  },
  {
   "cell_type": "markdown",
   "metadata": {},
   "source": [
    "### 1.3 Definición del problema.\n",
    "> Se debe describir en una cuartilla máximo cuál es el escenario de negocio que se va a modelar, identificar cuáles son los supuestos que defines en el negocio y cuáles son los \"nodos\" o \"escenarios\" que identificas necesarios simular y porqué. Debes elaborar un diagrama de inicio a fin, identificando los \"nodos\" o \"escenarios\" a simular.\n",
    "\n",
    "En este proyecto buscaremos predecir la zona en la que probablemente ocurran futuros incendios forestales en el Parque Natural de Montesinho situado en el distrito de Braganza, en la región histórica de Trás-os-Montes en Portugal.   \n",
    "Este lugar tiene una dimensión de cerca de 75 mil hectáreas y actualmente cuenta con 9000 habitantes viviendo en 92 aldeas. \n",
    "\n",
    "\n",
    "Nuestra variable principal a analizar serán las coordenadas espaciales (X(1-9) y Y(2-9)) en las que han ocurrido incendios en el pasado.  \n",
    "Además de estas, contamos con los siguientes datos:   \n",
    "month - Mes del año en el que se produjo el incendio ('jan' a 'dec')  \n",
    "day - Día de la semana ('mon' a 'sun')  \n",
    "FFMC - Código de humedad de combustible fino (18.7 a 96.20)  \n",
    "DMC - Código de humedad DUFF (1.1 a 291.3)  \n",
    "DC - Código de sequía (7.9 a 860.6)  \n",
    "ISI - Índice de propagación inicial (0.0 a 56.10)  \n",
    "temp - Temperatura en grados Celsius (2.2 a 33.30)  \n",
    "RH - Porcentaje de humedad relativa (15.0 a 100)  \n",
    "wind - Velocidad del viento en kilometros por hora (0.40 a 9.40). \n",
    "rain - Lluvia exterior en mm / m2: (0.0 a 6.4)\n",
    "area - Hectareas quemadas del bosque (0.00 a 1090.84)\n",
    "\n",
    "Las variables que tomaremos como nodos para realizar las simulaciones y que nos ayudarán a predecir futuros incendios son:  \n",
    ">  - Código de humedad de combustible fino, este es un indicador de la relativa facilidad de encendido y la inflamabilidad del combustible fino. (Temperatura, humedad realitva,  viento y lluvia)\n",
    ">  - Código de humedad DUFF, mide el contenido de humedad promedio de capas orgánicas poco compactadas de profundidad moderada (Temperatura, humedad relativa y lluvia). Gracias al teorema del límite central, sabemos que la suma de un gran número de variables aleatorias se distribuye aproximadamente como una normal, por lo tanto utilizaremos la distribución normal para modelarla. \n",
    ">  - Código de sequía, este indīce mide el contenido de humedad promedio de capas orgánicas compactas y profundas. (Tempreatura y lluvia)\n",
    "\n",
    "\n",
    "Nota: la mayoría de nuestra variables constan de cantidades en números enteros o con un decimal, lo que podria afecta a nuestra modelación."
   ]
  },
  {
   "cell_type": "markdown",
   "metadata": {},
   "source": [
    "### 1.4 Nodos y variables que se decidieron simular y porqué\n",
    "> En este apartado el objetivo es identificar los problemas que se van a abordar, para examinar la factibilidad y viabilidad de la simulación de los nodos escogidos. Posteriormente se debe de argumentar del porqué de los nodos escogidos.\n",
    "\n"
   ]
  },
  {
   "cell_type": "markdown",
   "metadata": {},
   "source": [
    "<script>\n",
    "  $(document).ready(function(){\n",
    "    $('div.prompt').hide();\n",
    "    $('div.back-to-top').hide();\n",
    "    $('nav#menubar').hide();\n",
    "    $('.breadcrumb').hide();\n",
    "    $('.hidden-print').hide();\n",
    "  });\n",
    "</script>\n",
    "\n",
    "<footer id=\"attribution\" style=\"float:right; color:#808080; background:#fff;\">\n",
    "Created with Jupyter by Esteban Jiménez Rodríguez.\n",
    "</footer>"
   ]
  }
 ],
 "metadata": {
  "kernelspec": {
   "display_name": "Python 3",
   "language": "python",
   "name": "python3"
  },
  "language_info": {
   "codemirror_mode": {
    "name": "ipython",
    "version": 3
   },
   "file_extension": ".py",
   "mimetype": "text/x-python",
   "name": "python",
   "nbconvert_exporter": "python",
   "pygments_lexer": "ipython3",
   "version": "3.6.12"
  }
 },
 "nbformat": 4,
 "nbformat_minor": 2
}
